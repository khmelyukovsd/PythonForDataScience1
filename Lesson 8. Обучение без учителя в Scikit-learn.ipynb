{
 "cells": [
  {
   "cell_type": "markdown",
   "metadata": {},
   "source": [
    "Тема “Обучение без учителя Scikit-learn”"
   ]
  },
  {
   "cell_type": "markdown",
   "metadata": {},
   "source": [
    "Задание 1\n",
    "Импортируйте библиотеки pandas, numpy и matplotlib.\n",
    "Загрузите \"Boston House Prices dataset\" из встроенных наборов данных библиотеки sklearn.\n",
    "Создайте датафреймы X и y из этих данных.\n",
    "Разбейте эти датафреймы на тренировочные (X_train, y_train) и тестовые (X_test, y_test)\n",
    "с помощью функции train_test_split так, чтобы размер тестовой выборки\n",
    "составлял 20% от всех данных, при этом аргумент random_state должен быть равен 42.\n",
    "Масштабируйте данные с помощью StandardScaler.\n",
    "Постройте модель TSNE на тренировочный данных с параметрами:\n",
    "n_components=2, learning_rate=250, random_state=42.\n",
    "Постройте диаграмму рассеяния на этих данных."
   ]
  },
  {
   "cell_type": "code",
   "execution_count": 1,
   "metadata": {},
   "outputs": [
    {
     "data": {
      "text/plain": [
       "dict_keys(['data', 'target', 'feature_names', 'DESCR', 'filename'])"
      ]
     },
     "execution_count": 1,
     "metadata": {},
     "output_type": "execute_result"
    }
   ],
   "source": [
    "import pandas as pd\n",
    "import numpy as np\n",
    "import seaborn as sns\n",
    "import matplotlib.pyplot as plt\n",
    "import matplotlib.image as img\n",
    "from sklearn.datasets import load_boston\n",
    "boston = load_boston()\n",
    "boston.keys()"
   ]
  },
  {
   "cell_type": "code",
   "execution_count": 2,
   "metadata": {},
   "outputs": [
    {
     "data": {
      "text/plain": [
       "(506, 13)"
      ]
     },
     "execution_count": 2,
     "metadata": {},
     "output_type": "execute_result"
    }
   ],
   "source": [
    "data = boston.data\n",
    "target = boston.target\n",
    "feature_names = boston.feature_names\n",
    "data.shape"
   ]
  },
  {
   "cell_type": "code",
   "execution_count": 3,
   "metadata": {},
   "outputs": [
    {
     "data": {
      "text/html": [
       "<div>\n",
       "<style scoped>\n",
       "    .dataframe tbody tr th:only-of-type {\n",
       "        vertical-align: middle;\n",
       "    }\n",
       "\n",
       "    .dataframe tbody tr th {\n",
       "        vertical-align: top;\n",
       "    }\n",
       "\n",
       "    .dataframe thead th {\n",
       "        text-align: right;\n",
       "    }\n",
       "</style>\n",
       "<table border=\"1\" class=\"dataframe\">\n",
       "  <thead>\n",
       "    <tr style=\"text-align: right;\">\n",
       "      <th></th>\n",
       "      <th>CRIM</th>\n",
       "      <th>ZN</th>\n",
       "      <th>INDUS</th>\n",
       "      <th>CHAS</th>\n",
       "      <th>NOX</th>\n",
       "      <th>RM</th>\n",
       "      <th>AGE</th>\n",
       "      <th>DIS</th>\n",
       "      <th>RAD</th>\n",
       "      <th>TAX</th>\n",
       "      <th>PTRATIO</th>\n",
       "      <th>B</th>\n",
       "      <th>LSTAT</th>\n",
       "    </tr>\n",
       "  </thead>\n",
       "  <tbody>\n",
       "    <tr>\n",
       "      <td>0</td>\n",
       "      <td>0.00632</td>\n",
       "      <td>18.0</td>\n",
       "      <td>2.31</td>\n",
       "      <td>0.0</td>\n",
       "      <td>0.538</td>\n",
       "      <td>6.575</td>\n",
       "      <td>65.2</td>\n",
       "      <td>4.0900</td>\n",
       "      <td>1.0</td>\n",
       "      <td>296.0</td>\n",
       "      <td>15.3</td>\n",
       "      <td>396.90</td>\n",
       "      <td>4.98</td>\n",
       "    </tr>\n",
       "    <tr>\n",
       "      <td>1</td>\n",
       "      <td>0.02731</td>\n",
       "      <td>0.0</td>\n",
       "      <td>7.07</td>\n",
       "      <td>0.0</td>\n",
       "      <td>0.469</td>\n",
       "      <td>6.421</td>\n",
       "      <td>78.9</td>\n",
       "      <td>4.9671</td>\n",
       "      <td>2.0</td>\n",
       "      <td>242.0</td>\n",
       "      <td>17.8</td>\n",
       "      <td>396.90</td>\n",
       "      <td>9.14</td>\n",
       "    </tr>\n",
       "    <tr>\n",
       "      <td>2</td>\n",
       "      <td>0.02729</td>\n",
       "      <td>0.0</td>\n",
       "      <td>7.07</td>\n",
       "      <td>0.0</td>\n",
       "      <td>0.469</td>\n",
       "      <td>7.185</td>\n",
       "      <td>61.1</td>\n",
       "      <td>4.9671</td>\n",
       "      <td>2.0</td>\n",
       "      <td>242.0</td>\n",
       "      <td>17.8</td>\n",
       "      <td>392.83</td>\n",
       "      <td>4.03</td>\n",
       "    </tr>\n",
       "    <tr>\n",
       "      <td>3</td>\n",
       "      <td>0.03237</td>\n",
       "      <td>0.0</td>\n",
       "      <td>2.18</td>\n",
       "      <td>0.0</td>\n",
       "      <td>0.458</td>\n",
       "      <td>6.998</td>\n",
       "      <td>45.8</td>\n",
       "      <td>6.0622</td>\n",
       "      <td>3.0</td>\n",
       "      <td>222.0</td>\n",
       "      <td>18.7</td>\n",
       "      <td>394.63</td>\n",
       "      <td>2.94</td>\n",
       "    </tr>\n",
       "    <tr>\n",
       "      <td>4</td>\n",
       "      <td>0.06905</td>\n",
       "      <td>0.0</td>\n",
       "      <td>2.18</td>\n",
       "      <td>0.0</td>\n",
       "      <td>0.458</td>\n",
       "      <td>7.147</td>\n",
       "      <td>54.2</td>\n",
       "      <td>6.0622</td>\n",
       "      <td>3.0</td>\n",
       "      <td>222.0</td>\n",
       "      <td>18.7</td>\n",
       "      <td>396.90</td>\n",
       "      <td>5.33</td>\n",
       "    </tr>\n",
       "  </tbody>\n",
       "</table>\n",
       "</div>"
      ],
      "text/plain": [
       "      CRIM    ZN  INDUS  CHAS    NOX     RM   AGE     DIS  RAD    TAX  \\\n",
       "0  0.00632  18.0   2.31   0.0  0.538  6.575  65.2  4.0900  1.0  296.0   \n",
       "1  0.02731   0.0   7.07   0.0  0.469  6.421  78.9  4.9671  2.0  242.0   \n",
       "2  0.02729   0.0   7.07   0.0  0.469  7.185  61.1  4.9671  2.0  242.0   \n",
       "3  0.03237   0.0   2.18   0.0  0.458  6.998  45.8  6.0622  3.0  222.0   \n",
       "4  0.06905   0.0   2.18   0.0  0.458  7.147  54.2  6.0622  3.0  222.0   \n",
       "\n",
       "   PTRATIO       B  LSTAT  \n",
       "0     15.3  396.90   4.98  \n",
       "1     17.8  396.90   9.14  \n",
       "2     17.8  392.83   4.03  \n",
       "3     18.7  394.63   2.94  \n",
       "4     18.7  396.90   5.33  "
      ]
     },
     "execution_count": 3,
     "metadata": {},
     "output_type": "execute_result"
    }
   ],
   "source": [
    "X = pd.DataFrame(data, columns=feature_names)\n",
    "X.head()"
   ]
  },
  {
   "cell_type": "code",
   "execution_count": 4,
   "metadata": {},
   "outputs": [
    {
     "data": {
      "text/html": [
       "<div>\n",
       "<style scoped>\n",
       "    .dataframe tbody tr th:only-of-type {\n",
       "        vertical-align: middle;\n",
       "    }\n",
       "\n",
       "    .dataframe tbody tr th {\n",
       "        vertical-align: top;\n",
       "    }\n",
       "\n",
       "    .dataframe thead th {\n",
       "        text-align: right;\n",
       "    }\n",
       "</style>\n",
       "<table border=\"1\" class=\"dataframe\">\n",
       "  <thead>\n",
       "    <tr style=\"text-align: right;\">\n",
       "      <th></th>\n",
       "      <th>price</th>\n",
       "    </tr>\n",
       "  </thead>\n",
       "  <tbody>\n",
       "    <tr>\n",
       "      <td>0</td>\n",
       "      <td>24.0</td>\n",
       "    </tr>\n",
       "    <tr>\n",
       "      <td>1</td>\n",
       "      <td>21.6</td>\n",
       "    </tr>\n",
       "    <tr>\n",
       "      <td>2</td>\n",
       "      <td>34.7</td>\n",
       "    </tr>\n",
       "    <tr>\n",
       "      <td>3</td>\n",
       "      <td>33.4</td>\n",
       "    </tr>\n",
       "    <tr>\n",
       "      <td>4</td>\n",
       "      <td>36.2</td>\n",
       "    </tr>\n",
       "  </tbody>\n",
       "</table>\n",
       "</div>"
      ],
      "text/plain": [
       "   price\n",
       "0   24.0\n",
       "1   21.6\n",
       "2   34.7\n",
       "3   33.4\n",
       "4   36.2"
      ]
     },
     "execution_count": 4,
     "metadata": {},
     "output_type": "execute_result"
    }
   ],
   "source": [
    "y = pd.DataFrame(target, columns=['price'])\n",
    "y.head()"
   ]
  },
  {
   "cell_type": "code",
   "execution_count": 5,
   "metadata": {},
   "outputs": [],
   "source": [
    "from sklearn.model_selection import train_test_split\n",
    "X_train, X_test, y_train, y_test = train_test_split(X, y, test_size=0.20, random_state=42)"
   ]
  },
  {
   "cell_type": "code",
   "execution_count": 7,
   "metadata": {},
   "outputs": [],
   "source": [
    "from sklearn.preprocessing import StandardScaler"
   ]
  },
  {
   "cell_type": "code",
   "execution_count": 8,
   "metadata": {},
   "outputs": [],
   "source": [
    "scaler = StandardScaler(with_mean=False)\n",
    "\n",
    "X_train_scaled = scaler.fit_transform(X_train)\n",
    "X_test_scaled = scaler.fit_transform(X_test)\n",
    "\n",
    "X_train_scaled = pd.DataFrame(X_train_scaled, columns=X_train.columns)\n",
    "X_test_scaled = pd.DataFrame(X_test_scaled, columns=X_test.columns)"
   ]
  },
  {
   "cell_type": "code",
   "execution_count": 10,
   "metadata": {},
   "outputs": [],
   "source": [
    "from sklearn.manifold import TSNE"
   ]
  },
  {
   "cell_type": "code",
   "execution_count": 12,
   "metadata": {},
   "outputs": [
    {
     "data": {
      "text/plain": [
       "array([[-2.42537060e+01, -2.28463840e+01],\n",
       "       [ 7.17482805e+00,  7.25726318e+00],\n",
       "       [ 1.68165436e+01,  1.48996668e+01],\n",
       "       [-2.69382744e+01, -3.19683933e+01],\n",
       "       [ 1.41786957e+00, -3.67929554e+00],\n",
       "       [ 1.12680092e+01,  9.77778053e+00],\n",
       "       [ 9.18835545e+00,  9.37094593e+00],\n",
       "       [ 2.59136963e+01,  1.70560856e+01],\n",
       "       [-2.80686665e+01, -3.21605682e+01],\n",
       "       [-2.63405342e+01, -3.47933388e+01],\n",
       "       [ 9.35723686e+00,  9.97671604e+00],\n",
       "       [ 9.27700615e+00,  1.89471400e+00],\n",
       "       [ 1.21004372e+01, -1.35789514e+00],\n",
       "       [-2.58820114e+01, -3.37761116e+01],\n",
       "       [ 1.36884794e+01, -9.47273135e-01],\n",
       "       [ 3.49823266e-01, -6.56317997e+00],\n",
       "       [ 3.09424615e+00, -1.19344246e+00],\n",
       "       [ 1.75816784e+01,  1.58780451e+01],\n",
       "       [ 1.01448746e+01,  1.54896584e+01],\n",
       "       [ 1.43680334e+01,  1.60122299e+01],\n",
       "       [-2.70022125e+01, -2.79248867e+01],\n",
       "       [ 2.94024205e+00,  1.21419513e+00],\n",
       "       [ 1.27754784e+01,  1.00256891e+01],\n",
       "       [ 8.70236015e+00,  7.07702541e+00],\n",
       "       [ 2.58867722e+01,  1.73751526e+01],\n",
       "       [ 1.18908443e+01, -5.96716940e-01],\n",
       "       [-8.74305153e+00,  9.39387798e+00],\n",
       "       [ 1.59616041e+01, -1.62281716e+00],\n",
       "       [-9.96471977e+00, -3.57818198e+00],\n",
       "       [ 1.46760349e+01,  7.30870914e+00],\n",
       "       [-3.22976410e-01, -4.77314425e+00],\n",
       "       [ 1.33016193e+00,  1.45613742e+00],\n",
       "       [-1.06678686e+01,  4.20434904e+00],\n",
       "       [-2.50792179e+01, -3.30426064e+01],\n",
       "       [ 9.04667473e+00,  8.54749680e+00],\n",
       "       [ 2.48457737e+01,  1.85036507e+01],\n",
       "       [ 2.23595219e+01,  1.76141624e+01],\n",
       "       [-3.50225270e-01, -5.44848633e+00],\n",
       "       [ 4.42757726e-01, -4.89350510e+00],\n",
       "       [ 2.36190872e+01,  1.75837383e+01],\n",
       "       [ 2.43319931e+01,  1.63825951e+01],\n",
       "       [-4.19340992e+00,  1.12161798e+01],\n",
       "       [-2.57112083e+01, -2.53656826e+01],\n",
       "       [ 5.87405396e+00,  5.12237549e+00],\n",
       "       [-8.19299221e+00,  9.28188038e+00],\n",
       "       [-2.04213238e+01, -2.20969086e+01],\n",
       "       [-9.45868254e-01, -5.98599720e+00],\n",
       "       [ 1.45623407e+01, -2.93238187e+00],\n",
       "       [-2.60771179e+01, -3.34650078e+01],\n",
       "       [-1.96172485e+01, -2.23790588e+01],\n",
       "       [ 9.57785797e+00,  1.15367136e+01],\n",
       "       [ 3.03541684e+00,  8.04625809e-01],\n",
       "       [ 1.16834240e+01,  7.54971313e+00],\n",
       "       [ 9.76315403e+00,  8.57096100e+00],\n",
       "       [-1.83963909e+01, -2.55323563e+01],\n",
       "       [-1.69422455e+01, -2.17213669e+01],\n",
       "       [ 9.54000473e+00,  1.20627918e+01],\n",
       "       [-2.67142773e+01, -2.66809254e+01],\n",
       "       [ 8.89575863e+00,  1.97418761e+00],\n",
       "       [ 1.03424387e+01,  1.53018265e+01],\n",
       "       [ 1.95176685e+00, -2.37924623e+00],\n",
       "       [ 8.58314037e+00,  6.45750666e+00],\n",
       "       [ 1.02012854e+01, -6.25373268e+00],\n",
       "       [-2.67692447e-01, -3.46095514e+00],\n",
       "       [ 1.34695692e+01, -6.15519619e+00],\n",
       "       [-1.99534302e+01, -2.39893875e+01],\n",
       "       [ 2.43087783e-01, -5.46182537e+00],\n",
       "       [ 2.50473857e+00,  7.61564684e+00],\n",
       "       [-1.01020842e+01, -7.34221554e+00],\n",
       "       [-1.65914130e+00, -3.40492797e+00],\n",
       "       [ 9.54726887e+00,  7.02904367e+00],\n",
       "       [-4.60430670e+00,  3.84928083e+00],\n",
       "       [-1.67149220e+01, -2.41916828e+01],\n",
       "       [ 1.90456247e+00,  5.85030913e-01],\n",
       "       [ 3.22134733e+00,  1.08779502e+00],\n",
       "       [ 1.24783649e+01,  2.52953959e+00],\n",
       "       [ 2.05581856e+01,  1.74578075e+01],\n",
       "       [ 1.18700342e+01,  4.15513897e+00],\n",
       "       [-1.09003067e+01,  4.43896866e+00],\n",
       "       [-2.56366711e+01, -2.20550499e+01],\n",
       "       [-2.33761597e+01, -2.19311905e+01],\n",
       "       [-1.66770363e+01, -1.66582947e+01],\n",
       "       [-3.89454937e+00,  1.40745001e+01],\n",
       "       [-5.27785254e+00,  1.27421875e+01],\n",
       "       [-2.67783279e+01, -3.26796265e+01],\n",
       "       [-1.09700937e+01, -5.48581553e+00],\n",
       "       [-1.56656914e+01, -1.61122208e+01],\n",
       "       [ 1.38764601e+01,  1.43009720e+01],\n",
       "       [-1.81476917e+01, -2.15058346e+01],\n",
       "       [-6.04445457e+00,  3.22576070e+00],\n",
       "       [ 2.07792354e+00, -5.85871041e-01],\n",
       "       [-2.05942707e+01, -2.37378731e+01],\n",
       "       [-2.39813175e+01, -2.43364410e+01],\n",
       "       [ 2.22794189e+01,  1.78568363e+01],\n",
       "       [ 1.42815332e+01,  1.64517841e+01],\n",
       "       [-1.71946144e+00, -4.32278967e+00],\n",
       "       [-1.96031437e+01, -2.11899033e+01],\n",
       "       [-1.00850830e+01,  3.02555895e+00],\n",
       "       [ 6.03701496e+00,  5.23478222e+00],\n",
       "       [-8.09321594e+00,  9.17315674e+00],\n",
       "       [-5.07809114e+00,  1.27713060e+01],\n",
       "       [ 1.50631151e+01,  3.19226909e+00],\n",
       "       [ 1.31314678e+01,  1.31200905e+01],\n",
       "       [ 1.23064804e+01,  1.55965967e+01],\n",
       "       [-6.38648462e+00,  2.83096337e+00],\n",
       "       [-7.32259083e+00,  1.23563490e+01],\n",
       "       [ 2.56575851e+01,  1.86620979e+01],\n",
       "       [ 1.27915096e+01, -1.55307877e+00],\n",
       "       [ 1.29038200e+01,  8.67926216e+00],\n",
       "       [ 6.20553207e+00,  3.03787065e+00],\n",
       "       [-2.64503593e+01, -3.29942818e+01],\n",
       "       [ 1.48352003e+01,  1.79822159e+01],\n",
       "       [ 2.56499243e+00,  1.67271569e-01],\n",
       "       [ 2.45067673e+01,  1.90680046e+01],\n",
       "       [ 1.82748680e+01,  1.60062637e+01],\n",
       "       [-1.57171574e+01, -2.56808262e+01],\n",
       "       [-1.64634438e+01, -1.64006214e+01],\n",
       "       [-2.45848808e+01, -2.44037476e+01],\n",
       "       [ 1.55647602e+01,  4.48918045e-01],\n",
       "       [ 1.26623020e+01, -6.51391649e+00],\n",
       "       [ 1.28092823e+01, -1.46184587e+00],\n",
       "       [-2.57330151e+01, -2.35227795e+01],\n",
       "       [-1.91448917e+01, -2.37292023e+01],\n",
       "       [ 7.54615927e+00,  3.67877340e+00],\n",
       "       [ 2.33255577e+01,  1.99069710e+01],\n",
       "       [-8.70483971e+00, -5.33210945e+00],\n",
       "       [-1.99463634e+01, -2.69772053e+01],\n",
       "       [ 1.07567720e+01,  1.57063465e+01],\n",
       "       [ 2.23003101e+01,  1.58360424e+01],\n",
       "       [-2.31482983e+01, -2.43821106e+01],\n",
       "       [ 1.22374153e+01,  1.49577646e+01],\n",
       "       [ 4.09239674e+00,  7.07670927e-01],\n",
       "       [ 1.26431179e+01,  4.41887736e-01],\n",
       "       [ 1.15142708e+01, -6.49265146e+00],\n",
       "       [ 4.21560812e+00,  8.95231247e+00],\n",
       "       [-1.51714144e+01, -1.53971233e+01],\n",
       "       [-1.79816937e+00, -1.34285343e+00],\n",
       "       [ 1.98542786e+01,  1.59658546e+01],\n",
       "       [-5.75797749e+00,  3.89290309e+00],\n",
       "       [-8.89923286e+00,  4.41158867e+00],\n",
       "       [ 9.81722355e+00,  6.75850868e-01],\n",
       "       [-2.20575409e+01, -2.22216721e+01],\n",
       "       [ 8.16151142e+00,  8.61890614e-01],\n",
       "       [ 5.60176516e+00,  2.07453394e+00],\n",
       "       [ 2.47949600e+00,  7.61384821e+00],\n",
       "       [-2.63949242e+01, -2.31948395e+01],\n",
       "       [-1.43389857e+00, -4.02052021e+00],\n",
       "       [ 1.23207893e+01,  1.28182678e+01],\n",
       "       [ 1.00975637e+01,  7.27499962e+00],\n",
       "       [ 3.70609188e+00,  3.30034041e+00],\n",
       "       [-6.72824144e+00,  2.71926117e+00],\n",
       "       [-2.13237858e+01, -2.45360107e+01],\n",
       "       [ 2.33598633e+01,  1.86534615e+01],\n",
       "       [ 1.60985279e+01,  9.32764626e+00],\n",
       "       [ 2.31713390e+01,  1.98468914e+01],\n",
       "       [-2.10781021e+01, -2.16506519e+01],\n",
       "       [-9.48480415e+00,  2.97316384e+00],\n",
       "       [-2.00661163e+01, -2.26796055e+01],\n",
       "       [-1.08981695e+01,  4.41559696e+00],\n",
       "       [-2.67212849e+01, -3.33667564e+01],\n",
       "       [ 2.20728951e+01,  1.61937981e+01],\n",
       "       [-9.78534412e+00, -3.50650764e+00],\n",
       "       [-1.10865173e+01, -6.50662374e+00],\n",
       "       [ 9.22055721e+00,  2.45781302e+00],\n",
       "       [-1.04573460e+01,  4.46736383e+00],\n",
       "       [ 1.84099979e+01,  1.48538589e+01],\n",
       "       [ 1.98492603e+01,  1.37575235e+01],\n",
       "       [ 1.44240618e+01, -1.27586579e+00],\n",
       "       [ 2.70212193e+01,  1.73592682e+01],\n",
       "       [-9.04456806e+00, -3.25586104e+00],\n",
       "       [ 1.07521963e+01, -5.65055370e-01],\n",
       "       [ 2.41898270e+01,  1.99764862e+01],\n",
       "       [ 1.29806719e+01,  1.53620491e+01],\n",
       "       [-1.60707455e+01, -2.58201580e+01],\n",
       "       [ 1.87086449e+01,  1.51069469e+01],\n",
       "       [ 2.68452148e+01,  1.52102776e+01],\n",
       "       [-2.70552292e+01, -2.87527008e+01],\n",
       "       [-2.41782398e+01, -2.14711571e+01],\n",
       "       [ 2.63316154e+01,  1.63333530e+01],\n",
       "       [-8.73165798e+00, -3.09912014e+00],\n",
       "       [ 1.44451876e+01,  3.44341826e+00],\n",
       "       [ 9.80153561e+00, -9.72520337e-02],\n",
       "       [-2.00315723e+01, -2.57036457e+01],\n",
       "       [-5.60345459e+00,  1.19480753e+01],\n",
       "       [-9.28282452e+00, -5.83087873e+00],\n",
       "       [-2.57366238e+01, -3.15938053e+01],\n",
       "       [ 2.65330887e+01,  2.03169212e+01],\n",
       "       [ 1.63798485e+01,  1.41632290e+01],\n",
       "       [-2.68394108e+01, -2.68568306e+01],\n",
       "       [-1.61250191e+01, -2.47565269e+01],\n",
       "       [-1.64371624e+01, -1.65067825e+01],\n",
       "       [ 1.54447670e+01,  1.03861122e+01],\n",
       "       [ 1.55787992e+01,  9.65342522e+00],\n",
       "       [-1.55706978e+01, -1.59646502e+01],\n",
       "       [-2.88247986e+01, -3.22058258e+01],\n",
       "       [ 1.48139119e+00,  1.33632672e+00],\n",
       "       [ 1.26025162e+01,  8.53453279e-01],\n",
       "       [ 4.68810368e+00, -1.80235469e+00],\n",
       "       [ 1.55814905e+01,  6.41780519e+00],\n",
       "       [ 9.43570995e+00,  1.00533962e+01],\n",
       "       [-1.64399948e+01, -2.53969383e+01],\n",
       "       [-2.63837929e+01, -3.19986515e+01],\n",
       "       [ 1.45747213e+01, -2.09645581e+00],\n",
       "       [ 5.58598471e+00,  8.13449919e-01],\n",
       "       [-6.34512520e+00,  4.10382938e+00],\n",
       "       [-8.68588543e+00, -5.88154268e+00],\n",
       "       [ 2.29688129e+01,  1.96842594e+01],\n",
       "       [ 1.24654922e+01, -6.94425583e+00],\n",
       "       [ 1.47180157e+01, -2.31734657e+00],\n",
       "       [ 1.55995536e+00,  9.89808619e-01],\n",
       "       [-8.60729122e+00, -2.86763787e+00],\n",
       "       [ 2.61251926e+01,  1.55487881e+01],\n",
       "       [ 1.42206316e+01, -2.46487975e+00],\n",
       "       [-2.61882744e+01, -2.37348347e+01],\n",
       "       [ 7.90706968e+00,  7.86480761e+00],\n",
       "       [-9.09741974e+00, -5.96351624e+00],\n",
       "       [ 2.26488457e+01,  1.68493977e+01],\n",
       "       [-2.84965076e+01, -3.26553040e+01],\n",
       "       [-1.89987528e+00, -4.02726316e+00],\n",
       "       [-2.63453598e+01, -2.24336586e+01],\n",
       "       [-1.98413582e+01, -2.10058365e+01],\n",
       "       [-8.56367874e+00, -6.09741116e+00],\n",
       "       [-2.36994686e+01, -2.80712490e+01],\n",
       "       [ 1.17310543e+01,  7.75481701e+00],\n",
       "       [ 4.03636694e+00, -2.21705413e+00],\n",
       "       [ 2.43067055e+01,  1.74038315e+01],\n",
       "       [ 2.37027817e+01,  1.27220573e+01],\n",
       "       [ 1.12178726e+01,  3.23523712e+00],\n",
       "       [ 1.76257877e+01,  1.35007715e+01],\n",
       "       [ 1.45801945e+01, -3.98406059e-01],\n",
       "       [-2.76454144e+01, -3.17628326e+01],\n",
       "       [-8.35505962e+00,  4.48243380e+00],\n",
       "       [ 4.44088411e+00,  9.19913197e+00],\n",
       "       [ 7.54985714e+00,  3.54633713e+00],\n",
       "       [-2.05415756e-01, -3.88635993e+00],\n",
       "       [-6.73512316e+00,  3.29146385e+00],\n",
       "       [-8.09055138e+00,  8.85947037e+00],\n",
       "       [-2.07999859e+01, -2.25743198e+01],\n",
       "       [ 1.31646433e+01,  1.77891445e+01],\n",
       "       [-4.54123259e+00,  1.14851580e+01],\n",
       "       [ 1.14570665e+01,  2.16896462e+00],\n",
       "       [ 1.68583012e+01,  1.28027554e+01],\n",
       "       [ 1.84364643e+01,  1.40744429e+01],\n",
       "       [-2.18479118e+01, -2.34192543e+01],\n",
       "       [-2.32519894e+01, -2.22188129e+01],\n",
       "       [ 1.11043510e+01,  1.07222371e-01],\n",
       "       [ 1.28324022e+01,  1.04736557e+01],\n",
       "       [-2.38146553e+01, -2.41050186e+01],\n",
       "       [-1.90664368e+01, -2.28235950e+01],\n",
       "       [ 9.14398479e+00,  5.46465731e+00],\n",
       "       [-4.39834833e+00,  1.43233852e+01],\n",
       "       [ 2.54674206e+01,  1.66638813e+01],\n",
       "       [-2.80806122e+01, -3.32929840e+01],\n",
       "       [ 9.50952339e+00,  1.21174765e+01],\n",
       "       [ 2.48760567e+01,  1.98445148e+01],\n",
       "       [-2.03034172e+01, -2.00180988e+01],\n",
       "       [-1.34876645e+00, -2.74385571e+00],\n",
       "       [ 1.38651428e+01, -2.29824209e+00],\n",
       "       [-2.65687141e+01, -3.41961060e+01],\n",
       "       [ 1.02739296e+01,  6.19642258e+00],\n",
       "       [-2.53213711e+01, -3.19427166e+01],\n",
       "       [-6.45537186e+00,  3.77298903e+00],\n",
       "       [ 1.50839071e+01,  7.89489448e-02],\n",
       "       [ 2.66493607e+01,  2.02210426e+01],\n",
       "       [ 9.76566410e+00,  5.93396473e+00],\n",
       "       [ 9.74137497e+00,  1.55959482e+01],\n",
       "       [ 3.21419644e+00,  5.55901718e+00],\n",
       "       [-3.08754951e-01, -7.76999807e+00],\n",
       "       [ 1.34269037e+01, -5.67140579e+00],\n",
       "       [ 9.11434555e+00,  7.76578617e+00],\n",
       "       [ 2.56075058e+01,  1.88912659e+01],\n",
       "       [-1.93032856e+01, -2.17048874e+01],\n",
       "       [ 1.63206801e-01, -6.64357710e+00],\n",
       "       [-1.93638287e+01, -2.31346893e+01],\n",
       "       [ 7.37471628e+00,  2.22622681e+00],\n",
       "       [ 1.19948015e+01, -6.40066099e+00],\n",
       "       [ 2.21398087e+01,  1.55644598e+01],\n",
       "       [-7.24059916e+00,  1.22619848e+01],\n",
       "       [-2.73614254e+01, -3.30216141e+01],\n",
       "       [-9.39314556e+00, -5.45953846e+00],\n",
       "       [ 1.14850092e+01,  1.54813814e+01],\n",
       "       [-8.26390553e+00, -5.40586233e+00],\n",
       "       [-7.99649429e+00, -5.49255991e+00],\n",
       "       [-1.56177588e+01, -2.38683605e+01],\n",
       "       [ 1.85220122e+00,  6.83690977e+00],\n",
       "       [ 1.05426731e+01,  9.37607861e+00],\n",
       "       [-1.75841026e+01, -2.57080479e+01],\n",
       "       [ 1.19668837e+01,  1.74534626e+01],\n",
       "       [ 2.35218029e+01,  1.83564072e+01],\n",
       "       [ 5.28638959e-01, -4.14427328e+00],\n",
       "       [-9.47520161e+00,  2.67464399e+00],\n",
       "       [ 2.63173790e+01,  2.02224579e+01],\n",
       "       [-2.25053978e+01, -2.37676506e+01],\n",
       "       [-1.65517464e+01, -2.60908432e+01],\n",
       "       [-2.02329025e+01, -2.56999054e+01],\n",
       "       [-5.07035875e+00,  1.16702948e+01],\n",
       "       [ 1.80747681e+01,  1.74246578e+01],\n",
       "       [-2.28353291e+01, -2.17825527e+01],\n",
       "       [-1.67825234e+00, -1.42465508e+00],\n",
       "       [ 7.77813721e+00,  8.35562134e+00],\n",
       "       [-4.92719030e+00,  1.26725407e+01],\n",
       "       [ 3.46724534e+00,  3.99061942e+00],\n",
       "       [-4.32171249e+00,  1.18410063e+01],\n",
       "       [ 1.60118599e+01,  9.22996616e+00],\n",
       "       [-1.79491920e+01, -2.28781395e+01],\n",
       "       [ 1.45929174e+01,  1.61344833e+01],\n",
       "       [ 3.37875605e+00, -1.61969423e+00],\n",
       "       [-1.73473911e+01, -2.41967659e+01],\n",
       "       [ 1.88209705e+01,  1.65928879e+01],\n",
       "       [ 1.30273457e+01,  1.77115459e+01],\n",
       "       [-4.14900398e+00,  1.22581415e+01],\n",
       "       [ 2.40175476e+01,  1.69565811e+01],\n",
       "       [-3.94939184e+00,  3.95927835e+00],\n",
       "       [ 1.27815876e+01,  9.97728443e+00],\n",
       "       [ 5.46638680e+00,  1.13883711e-01],\n",
       "       [-2.13792133e+01, -2.30262184e+01],\n",
       "       [ 2.06140404e+01,  1.72398262e+01],\n",
       "       [ 4.78891373e+00,  1.94859326e+00],\n",
       "       [ 1.17485209e+01, -7.04439116e+00],\n",
       "       [-2.11510015e+00, -4.89723825e+00],\n",
       "       [ 1.62327366e+01,  1.48844547e+01],\n",
       "       [-2.28339157e+01, -2.22558460e+01],\n",
       "       [ 1.01476307e+01,  2.77758908e+00],\n",
       "       [-1.91786156e+01, -2.11728992e+01],\n",
       "       [-1.03335495e+01, -7.13319302e+00],\n",
       "       [ 3.64307308e+00,  5.69833899e+00],\n",
       "       [-2.76332092e+01, -3.36377487e+01],\n",
       "       [ 1.36727896e+01,  1.30746164e+01],\n",
       "       [ 1.08180771e+01,  7.05218029e+00],\n",
       "       [ 1.23204030e-01, -7.58380699e+00],\n",
       "       [-2.56420307e+01, -3.31528931e+01],\n",
       "       [ 1.21644030e+01, -6.45482349e+00],\n",
       "       [-2.70979118e+01, -2.93076954e+01],\n",
       "       [-2.07823315e+01, -2.66138630e+01],\n",
       "       [ 1.00205774e+01,  1.45027971e+00],\n",
       "       [ 8.54499626e+00,  8.17330837e+00],\n",
       "       [-1.91641388e+01, -2.47219296e+01],\n",
       "       [ 1.66429806e+01,  1.57310429e+01],\n",
       "       [ 1.16504850e+01,  1.42264690e+01],\n",
       "       [ 1.21924314e+01, -6.87896347e+00],\n",
       "       [ 1.72421379e+01,  1.29206200e+01],\n",
       "       [ 7.06754160e+00,  7.23046827e+00],\n",
       "       [ 4.21548939e+00,  2.61707592e+00],\n",
       "       [ 1.17769108e+01, -3.09916079e-01],\n",
       "       [-2.55717602e+01, -2.30284519e+01],\n",
       "       [-4.39577198e+00,  1.38871660e+01],\n",
       "       [-3.78534555e+00,  3.97952986e+00],\n",
       "       [ 1.46698999e+01,  7.20668650e+00],\n",
       "       [ 2.68010211e+00, -7.63734937e-01],\n",
       "       [-8.44099140e+00, -6.78480291e+00],\n",
       "       [ 1.48351583e+01,  2.46352983e+00],\n",
       "       [-1.72196331e+01, -2.46003838e+01],\n",
       "       [ 5.29698896e+00,  2.99421334e+00],\n",
       "       [ 1.69730778e+01,  1.61242256e+01],\n",
       "       [ 2.70047989e+01,  1.47116756e+01],\n",
       "       [-1.65390530e+01, -1.67633801e+01],\n",
       "       [ 1.64854584e+01,  1.31221676e+01],\n",
       "       [-1.82185440e+01, -2.23684864e+01],\n",
       "       [ 8.16022301e+00,  1.52213204e+00],\n",
       "       [-2.76419220e+01, -3.28178711e+01],\n",
       "       [ 1.96788197e+01,  1.77938423e+01],\n",
       "       [-5.95070958e-01, -1.65505314e+00],\n",
       "       [-1.71440125e+01, -2.24848881e+01],\n",
       "       [ 1.93046684e+01,  1.78474865e+01],\n",
       "       [-5.85169840e+00,  3.46528292e+00],\n",
       "       [ 1.33195171e+01,  1.56135683e+01],\n",
       "       [ 1.72488225e+00,  6.32767677e+00],\n",
       "       [ 2.09465561e+01,  1.59191904e+01],\n",
       "       [ 7.46826458e+00,  2.30720520e+00],\n",
       "       [ 1.46056433e+01,  1.71282825e+01],\n",
       "       [-3.34032439e-02, -4.79967976e+00],\n",
       "       [ 5.39996147e+00,  1.22766364e+00],\n",
       "       [-1.82871799e+01, -2.30467186e+01],\n",
       "       [-6.65135098e+00,  1.13912363e+01],\n",
       "       [-4.10215616e+00,  1.40122662e+01],\n",
       "       [-2.03749847e+01, -2.19250698e+01],\n",
       "       [ 2.05011578e+01,  1.69478493e+01],\n",
       "       [-2.50563297e+01, -2.25797825e+01],\n",
       "       [ 1.53023958e+01,  9.26724720e+00],\n",
       "       [-2.49795837e+01, -2.60079060e+01],\n",
       "       [ 2.07401371e+01,  1.50266409e+01],\n",
       "       [ 1.37424984e+01, -5.96175528e+00],\n",
       "       [ 6.17635965e+00,  5.15722930e-01],\n",
       "       [-9.92427349e+00,  4.25465441e+00],\n",
       "       [-7.74030685e+00, -5.63787174e+00],\n",
       "       [-9.22514343e+00,  4.23275709e+00],\n",
       "       [-1.75911980e+01, -2.20462971e+01],\n",
       "       [ 1.35335026e+01,  3.12879570e-02],\n",
       "       [-1.59868612e+01, -1.66538315e+01],\n",
       "       [ 9.53890038e+00,  3.56582165e+00],\n",
       "       [-1.87717438e+01, -2.06082172e+01],\n",
       "       [ 1.48711824e+01,  7.11624146e+00],\n",
       "       [ 4.83425570e+00, -2.99431086e+00],\n",
       "       [-2.59442520e+01, -3.23650131e+01],\n",
       "       [-8.67297745e+00, -3.01852489e+00],\n",
       "       [-5.82885802e-01, -1.64441204e+00],\n",
       "       [-1.08148479e+00, -6.33552742e+00],\n",
       "       [ 1.95278969e+01,  1.74006577e+01],\n",
       "       [ 1.22022171e+01,  8.72886086e+00],\n",
       "       [-2.08358550e+00, -5.20017481e+00],\n",
       "       [ 1.15472307e+01,  6.46318245e+00],\n",
       "       [ 2.54140148e+01,  1.75629177e+01],\n",
       "       [-2.74156075e+01, -3.39398384e+01],\n",
       "       [ 7.02495098e-01, -8.26152229e+00]], dtype=float32)"
      ]
     },
     "execution_count": 12,
     "metadata": {},
     "output_type": "execute_result"
    }
   ],
   "source": [
    "tsne = TSNE(n_components=2, learning_rate=250, random_state=100)\n",
    "X_train_tsne = tsne.fit_transform(X_train_scaled)\n",
    "X_train_tsne"
   ]
  },
  {
   "cell_type": "code",
   "execution_count": 13,
   "metadata": {},
   "outputs": [
    {
     "data": {
      "text/plain": [
       "<matplotlib.collections.PathCollection at 0x1b21ae1f448>"
      ]
     },
     "execution_count": 13,
     "metadata": {},
     "output_type": "execute_result"
    },
    {
     "data": {
      "image/png": "[encoded data removed]",
      "text/plain": [
       "<Figure size 432x288 with 1 Axes>"
      ]
     },
     "metadata": {
      "needs_background": "light"
     },
     "output_type": "display_data"
    }
   ],
   "source": [
    "plt.scatter(X_train_tsne[:, 0], X_train_tsne[:, 1])"
   ]
  },
  {
   "cell_type": "markdown",
   "metadata": {},
   "source": [
    "Задание 2\n",
    "С помощью KMeans разбейте данные из тренировочного набора на 3 кластера,\n",
    "используйте все признаки из датафрейма X_train.\n",
    "Параметр max_iter должен быть равен 100, random_state сделайте равным 42.\n",
    "Постройте еще раз диаграмму рассеяния на данных, полученных с помощью TSNE,\n",
    "и раскрасьте точки из разных кластеров разными цветами.\n",
    "Вычислите средние значения price и CRIM в разных кластерах.\n"
   ]
  },
  {
   "cell_type": "code",
   "execution_count": 14,
   "metadata": {},
   "outputs": [],
   "source": [
    "from sklearn.cluster import KMeans"
   ]
  },
  {
   "cell_type": "code",
   "execution_count": 61,
   "metadata": {},
   "outputs": [],
   "source": [
    "from sklearn.preprocessing import MinMaxScaler\n",
    "scaler = MinMaxScaler()\n",
    "\n",
    "X_train_scaled = scaler.fit_transform(X_train)\n",
    "X_test_scaled = scaler.fit_transform(X_test)\n",
    "\n",
    "X_train_scaled = pd.DataFrame(X_train_scaled, columns=X_train.columns)\n",
    "X_test_scaled = pd.DataFrame(X_test_scaled, columns=X_test.columns)"
   ]
  },
  {
   "cell_type": "code",
   "execution_count": 65,
   "metadata": {},
   "outputs": [
    {
     "data": {
      "text/plain": [
       "array([[9.83092272e-04, 3.07163121e-01, 1.55912792e-01, 3.54609929e-02,\n",
       "        1.23144500e-01, 5.44851629e-01, 3.46480560e-01, 4.50556762e-01,\n",
       "        1.40918902e-01, 2.03454063e-01, 5.27387958e-01, 9.81469221e-01,\n",
       "        1.55744603e-01],\n",
       "       [1.45203294e-01, 5.55111512e-17, 6.49895721e-01, 7.76699029e-02,\n",
       "        5.93311758e-01, 4.42317223e-01, 8.87754592e-01, 8.32317528e-02,\n",
       "        9.83115238e-01, 9.15789669e-01, 8.08304069e-01, 7.24522825e-01,\n",
       "        4.64666517e-01],\n",
       "       [7.83341889e-03, 2.14375000e-02, 4.02333333e-01, 1.00000000e-01,\n",
       "        4.00475823e-01, 4.94727476e-01, 8.30509784e-01, 1.64399058e-01,\n",
       "        1.60326087e-01, 2.76979962e-01, 5.50930851e-01, 9.35033127e-01,\n",
       "        3.11042701e-01]])"
      ]
     },
     "execution_count": 65,
     "metadata": {},
     "output_type": "execute_result"
    }
   ],
   "source": [
    "model = KMeans(n_clusters=3, max_iter=100, random_state=42).fit(X_train_scaled)\n",
    "train_labels = model.fit_predict(X_train_scaled)\n",
    "model.cluster_centers_\n",
    "#centers = scaler.inverse_transform(model.cluster_centers_)\n",
    "#centers"
   ]
  },
  {
   "cell_type": "code",
   "execution_count": 64,
   "metadata": {},
   "outputs": [
    {
     "data": {
      "text/plain": [
       "(-40, 40)"
      ]
     },
     "execution_count": 64,
     "metadata": {},
     "output_type": "execute_result"
    },
    {
     "data": {
      "image/png": "[encoded data removed]",
      "text/plain": [
       "<Figure size 432x288 with 1 Axes>"
      ]
     },
     "metadata": {
      "needs_background": "light"
     },
     "output_type": "display_data"
    }
   ],
   "source": [
    "plt.scatter(X_train_tsne[:, 0], X_train_tsne[:, 1], c=train_labels)\n",
    "plt.scatter(centers[:, 0], centers[:, 1], marker='D', color='red')\n",
    "plt.xlim(-30,30)\n",
    "plt.ylim(-40,40)"
   ]
  },
  {
   "cell_type": "code",
   "execution_count": null,
   "metadata": {},
   "outputs": [],
   "source": []
  },
  {
   "cell_type": "markdown",
   "metadata": {},
   "source": [
    "* Задание 3\n",
    "Примените модель KMeans, построенную в предыдущем задании,\n",
    "к данным из тестового набора.\n",
    "Вычислите средние значения price и CRIM в разных кластерах на тестовых данных.\n"
   ]
  },
  {
   "cell_type": "code",
   "execution_count": 57,
   "metadata": {},
   "outputs": [
    {
     "data": {
      "text/plain": [
       "array([[ 1.20165366e-01,  2.56341463e+01,  6.08853659e+00,\n",
       "         2.43902439e-02,  4.50636585e-01,  6.44502439e+00,\n",
       "         3.77024390e+01,  5.39562439e+00,  4.21951220e+00,\n",
       "         2.89658537e+02,  1.80780488e+01,  3.88876098e+02,\n",
       "         7.65902439e+00],\n",
       "       [ 1.13891742e+01,  0.00000000e+00,  1.81000000e+01,\n",
       "        -6.93889390e-18,  6.65225806e-01,  5.92161290e+00,\n",
       "         9.25032258e+01,  2.10016774e+00,  2.40000000e+01,\n",
       "         6.66000000e+02,  2.02000000e+01,  2.93974516e+02,\n",
       "         1.90438710e+01],\n",
       "       [ 4.12179667e-01,  8.33333333e-01,  1.28840000e+01,\n",
       "         1.66666667e-01,  5.58600000e-01,  6.01963333e+00,\n",
       "         8.62900000e+01,  3.18183333e+00,  4.50000000e+00,\n",
       "         3.60566667e+02,  1.90166667e+01,  3.82782667e+02,\n",
       "         1.55100000e+01]])"
      ]
     },
     "execution_count": 57,
     "metadata": {},
     "output_type": "execute_result"
    }
   ],
   "source": [
    "model = KMeans(n_clusters=3, max_iter=100, random_state=42).fit(X_test_scaled)\n",
    "train_labels = model.fit_predict(X_test_scaled)\n",
    "centers = scaler.inverse_transform(model.cluster_centers_)\n",
    "centers"
   ]
  },
  {
   "cell_type": "code",
   "execution_count": 58,
   "metadata": {},
   "outputs": [
    {
     "data": {
      "text/plain": [
       "<matplotlib.collections.PathCollection at 0x1b21d3f6a08>"
      ]
     },
     "execution_count": 58,
     "metadata": {},
     "output_type": "execute_result"
    },
    {
     "data": {
      "image/png": "[encoded data removed]",
      "text/plain": [
       "<Figure size 432x288 with 1 Axes>"
      ]
     },
     "metadata": {
      "needs_background": "light"
     },
     "output_type": "display_data"
    }
   ],
   "source": [
    "plt.scatter(X_test_tsne[:, 0], X_test_tsne[:, 1], c=train_labels)\n",
    "plt.scatter(centers[:, 0], centers[:, 1], marker='D', color='red')"
   ]
  },
  {
   "cell_type": "code",
   "execution_count": null,
   "metadata": {},
   "outputs": [],
   "source": []
  }
 ],
 "metadata": {
  "kernelspec": {
   "display_name": "Python 3",
   "language": "python",
   "name": "python3"
  },
  "language_info": {
   "codemirror_mode": {
    "name": "ipython",
    "version": 3
   },
   "file_extension": ".py",
   "mimetype": "text/x-python",
   "name": "python",
   "nbconvert_exporter": "python",
   "pygments_lexer": "ipython3",
   "version": "3.7.4"
  }
 },
 "nbformat": 4,
 "nbformat_minor": 2
}
